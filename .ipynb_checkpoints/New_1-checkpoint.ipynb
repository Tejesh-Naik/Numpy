{
 "cells": [
  {
   "cell_type": "code",
   "execution_count": 3,
   "id": "7bab733c",
   "metadata": {},
   "outputs": [],
   "source": [
    "#to import numpy \n",
    "import numpy as np"
   ]
  },
  {
   "cell_type": "code",
   "execution_count": 4,
   "id": "7bae8a0c",
   "metadata": {},
   "outputs": [
    {
     "name": "stdout",
     "output_type": "stream",
     "text": [
      "[0 1 2 3 4 5 6 7 8 9]\n"
     ]
    }
   ],
   "source": [
    "#numpy array shape\n",
    "np1 = np.array([0,1,2,3,4,5,6,7,8,9])\n",
    "print(np1)"
   ]
  },
  {
   "cell_type": "code",
   "execution_count": 5,
   "id": "d6872a77",
   "metadata": {},
   "outputs": [
    {
     "name": "stdout",
     "output_type": "stream",
     "text": [
      "(10,)\n"
     ]
    }
   ],
   "source": [
    "#np1.shape means we can know how many elements in an numpy array has\n",
    "print(np1.shape)"
   ]
  },
  {
   "cell_type": "code",
   "execution_count": 6,
   "id": "cd9bed02",
   "metadata": {},
   "outputs": [
    {
     "name": "stdout",
     "output_type": "stream",
     "text": [
      "[0 2 4 6 8]\n"
     ]
    }
   ],
   "source": [
    "#numpy arange function -> np.arange(start,stop, step)\n",
    "#suppose we want to create an array which starts at 0 and ends before 10 , with a gap of 2. This means we want our array to include every second number starting from 0 upt to 10 .\n",
    "np2 = np.arange(0,10,2)\n",
    "print(np2)"
   ]
  },
  {
   "cell_type": "code",
   "execution_count": 7,
   "id": "47e59ec3",
   "metadata": {},
   "outputs": [
    {
     "name": "stdout",
     "output_type": "stream",
     "text": [
      "[[0. 0. 0. 0.]\n",
      " [0. 0. 0. 0.]\n",
      " [0. 0. 0. 0.]]\n",
      "[[[0. 0. 0. 0.]\n",
      "  [0. 0. 0. 0.]\n",
      "  [0. 0. 0. 0.]]\n",
      "\n",
      " [[0. 0. 0. 0.]\n",
      "  [0. 0. 0. 0.]\n",
      "  [0. 0. 0. 0.]]]\n",
      "[[6 6 6 6 6 6 6 6 6 6]\n",
      " [6 6 6 6 6 6 6 6 6 6]]\n"
     ]
    }
   ],
   "source": [
    "#numpy zeros function -> np.zeroes(shape,dtype=float, order='C') \n",
    "np3 = np.zeros((3,4))\n",
    "print(np3)\n",
    "\n",
    "#to create a 3d array we can use \n",
    "np31 = np.zeros(shape=(2,3,4), dtype=float , order='F')\n",
    "print(np31)\n",
    "\n",
    "#two types of order 'C' and 'F'\n",
    "#differnce is in C type elements are stored in memory row by row and last rightmost index change the fastest.efficent for accessing or modyfying rows at a time\n",
    "#In 'F' type elements are stored in memory coloumn wise and first leftmost index changes the fastest.efficent for accessing or modyfying columns at a time\n",
    "np32 = np.full((2,10),6)\n",
    "print(np32)"
   ]
  },
  {
   "cell_type": "code",
   "execution_count": 8,
   "id": "e39495d5",
   "metadata": {},
   "outputs": [
    {
     "name": "stdout",
     "output_type": "stream",
     "text": [
      "[1 2 3 4 5]\n",
      "1\n",
      "4\n"
     ]
    }
   ],
   "source": [
    "#convet python list to numpy array\n",
    "my_list = [1,2,3,4,5]\n",
    "np4 = np.array(my_list)\n",
    "print(np4)\n",
    "\n",
    "#accessing any item on the array \n",
    "print(np4[0])\n",
    "print(np4[3])"
   ]
  },
  {
   "cell_type": "code",
   "execution_count": 9,
   "id": "a486975a",
   "metadata": {},
   "outputs": [
    {
     "name": "stdout",
     "output_type": "stream",
     "text": [
      "[2 3 4 5]\n",
      "[3 4 5 6 7 8 9]\n",
      "[7 8]\n",
      "[2 4]\n"
     ]
    }
   ],
   "source": [
    "#Slicing numpy arrays \n",
    "np5 = np.array([1,2,3,4,5,6,7,8,9])\n",
    "\n",
    "#return 2,3,4,5\n",
    "print(np5[1:5])\n",
    "\n",
    "#return from something from the array\n",
    "print(np5[2:])\n",
    "\n",
    "#return negative slices \n",
    "print(np5[-3:-1])\n",
    "\n",
    "#sicing with steps\n",
    "print(np5[1:5:2])"
   ]
  },
  {
   "cell_type": "code",
   "execution_count": 10,
   "id": "212bb9db",
   "metadata": {},
   "outputs": [
    {
     "name": "stdout",
     "output_type": "stream",
     "text": [
      "4\n",
      "[[2 3]]\n"
     ]
    }
   ],
   "source": [
    "#create 2D array \n",
    "np6 = np.array([\n",
    "    [1,2,3,4,5,6], \n",
    "    [2,3,4,5,6,7]])\n",
    "print(np6[1,2])\n",
    "\n",
    "#slice a 2D array \n",
    "print(np6[0:1, 1:3])\n",
    "#means list no. 0 upto list no. 1 then within that list ,from element no. 1 to 3\n"
   ]
  },
  {
   "cell_type": "code",
   "execution_count": 11,
   "id": "e1739a73",
   "metadata": {},
   "outputs": [
    {
     "name": "stdout",
     "output_type": "stream",
     "text": [
      "[1 2 3 4 5 6 7 8 9]\n",
      "[1.         1.41421356 1.73205081 2.         2.23606798 2.44948974\n",
      " 2.64575131 2.82842712 3.        ]\n",
      "[1 2 3 4 5 6 7 8 9]\n",
      "[2.71828183e+00 7.38905610e+00 2.00855369e+01 5.45981500e+01\n",
      " 1.48413159e+02 4.03428793e+02 1.09663316e+03 2.98095799e+03\n",
      " 8.10308393e+03]\n",
      "1\n",
      "9\n",
      "[1 1 1 1 1 1 1 1 1]\n",
      "[ 0.54030231 -0.41614684 -0.9899925  -0.65364362  0.28366219  0.96017029\n",
      "  0.75390225 -0.14550003 -0.91113026]\n",
      "[0.         0.69314718 1.09861229 1.38629436 1.60943791 1.79175947\n",
      " 1.94591015 2.07944154 2.19722458]\n",
      "[ 0.84147098  0.90929743  0.14112001 -0.7568025  -0.95892427 -0.2794155\n",
      "  0.6569866   0.98935825  0.41211849]\n"
     ]
    }
   ],
   "source": [
    "#Universal functions in Numpy \n",
    "np7  = np.array([1,2,3,4,5,6,7,8,9])\n",
    "print(np7)\n",
    "\n",
    "#sqrt\n",
    "print(np.sqrt(np7))\n",
    "\n",
    "#absolute value of function = makes absolute positive to any no.\n",
    "print(np.absolute(np7))\n",
    "\n",
    "#exponents\n",
    "print(np.exp(np7))\n",
    "\n",
    "#min and max\n",
    "print(np.min(np7))\n",
    "print(np.max(np7))\n",
    "\n",
    "#sign negative or positive\n",
    "print(np.sign(np7))\n",
    "\n",
    "#trig sin cos log\n",
    "print(np.cos(np7))\n",
    "print(np.log(np7))\n",
    "print(np.sin(np7))"
   ]
  },
  {
   "cell_type": "code",
   "execution_count": 12,
   "id": "42216648",
   "metadata": {},
   "outputs": [
    {
     "name": "stdout",
     "output_type": "stream",
     "text": [
      "[1 2 3 4 5 6 7 8 9]\n",
      "Original NP9 [1 2 3 4 5 6 7 8 9]\n",
      "Original NP10 [1 2 3 4 5 6 7 8 9]\n",
      "Changed NP8 [ 1 33  3  4  5  6  7  8  9]\n",
      "Changed NP9 [1 2 3 4 5 6 7 8 9]\n"
     ]
    }
   ],
   "source": [
    "\n",
    "np8  = np.array([1,2,3,4,5,6,7,8,9])\n",
    "print(np8)\n",
    "\n",
    "'''#Copy vs View\n",
    "#create a view\n",
    "np9 = np8.view()\n",
    "\n",
    "print(f'Original NP8 {np8}')\n",
    "print(f'Original NP9 {np9}')\n",
    "\n",
    "np8[1] = 33\n",
    "\n",
    "print(f'Changed NP8 {np8}')\n",
    "print(f'Changed NP9 {np9}')\n",
    "\n",
    "#so diffrence between copy and view is , view is still connected to original when we changed the only original array.\n",
    "'''\n",
    "\n",
    "#copy\n",
    "np9 = np8.copy()\n",
    "print(f'Original NP9 {np8}')\n",
    "print(f'Original NP10 {np9}')\n",
    "\n",
    "np8[1] = 33\n",
    "\n",
    "print(f'Changed NP8 {np8}')\n",
    "print(f'Changed NP9 {np9}')\n",
    "\n",
    "# so the copy function only copies the original and not connected to orginal array when changed."
   ]
  },
  {
   "cell_type": "code",
   "execution_count": 13,
   "id": "a3aca89a",
   "metadata": {},
   "outputs": [
    {
     "name": "stdout",
     "output_type": "stream",
     "text": [
      "[[ 1  2  3  4]\n",
      " [ 5  6  7  8]\n",
      " [ 9 10 11 12]]\n",
      "(3, 4)\n",
      "[[[ 1  2]\n",
      "  [ 3  4]\n",
      "  [ 5  6]]\n",
      "\n",
      " [[ 7  8]\n",
      "  [ 9 10]\n",
      "  [11 12]]]\n",
      "(2, 3, 2)\n",
      "[ 1  2  3  4  5  6  7  8  9 10 11 12]\n"
     ]
    }
   ],
   "source": [
    "#Shape and Reshape Numpy\n",
    "np10 = np.array([1,2,3,4,5,6,7,8,9,10,11,12])\n",
    "'''print(np10)\n",
    "print(np10.shape)\n",
    "\n",
    "np11 = np.array([[1,2,3,4,5],[5,6,7,8,9]])\n",
    "print(np11.shape)\n",
    "# 2 rows and 5 elements in each\n",
    "'''\n",
    "#reshaping 2D\n",
    "np12 = np10.reshape(3,4)\n",
    "#(3,4 means 3 columns with 4 elements in each column)\n",
    "print(np12)\n",
    "print(np12.shape)\n",
    "\n",
    "#reshaping 3D\n",
    "np13 = np10.reshape(2,3,2)\n",
    "print(np13)\n",
    "print(np13.shape)\n",
    "# 2 arrays with each containing 3 arrays with 2 elements \n",
    "\n",
    "#flatten to 1D\n",
    "np14 = np10.reshape(-1)\n",
    "print(np14)"
   ]
  },
  {
   "cell_type": "code",
   "execution_count": 23,
   "id": "4c6416ed",
   "metadata": {},
   "outputs": [
    {
     "name": "stdout",
     "output_type": "stream",
     "text": [
      "1\n",
      "2\n",
      "3\n",
      "4\n",
      "5\n",
      "6\n",
      "7\n",
      "8\n",
      "9\n",
      "10\n",
      "11\n",
      "12\n"
     ]
    }
   ],
   "source": [
    "#iterating through numpy arrays\n",
    "\n",
    "'''\n",
    "np15 = np.array([1,2,3,4,5,6,7,8,9,10])\n",
    "print(np15)\n",
    "for x in np15:\n",
    "    print(x)\n",
    "\n",
    "#2D array \n",
    "np16 = np.array([[1,2,3,4,5],[6,7,8,9,10]])\n",
    "for x in np16:\n",
    "    print(x)\n",
    "    \n",
    "#to get access to inside elements \n",
    "    for y in x:\n",
    "        print(y)\n",
    "'''      \n",
    "#3D array\n",
    "np17 = np.array([[[1,2,3],[4,5,6]],[[7,8,9],[10,11,12]]]) \n",
    "'''for x in np17:\n",
    "    print(x)\n",
    "    for y in x:\n",
    "        for z in y:\n",
    "            print(z)\n",
    "     '''       \n",
    "#use np.nditer() - to loop in 3d arrays\n",
    "for x in np.nditer(np17):\n",
    "    print(x)"
   ]
  },
  {
   "cell_type": "code",
   "execution_count": 31,
   "id": "9a50cb43",
   "metadata": {},
   "outputs": [
    {
     "name": "stdout",
     "output_type": "stream",
     "text": [
      "[0 1 2 3 5 6 7 9]\n",
      "['john' 'reena' 'sattu' 'tina']\n",
      "[False False  True  True]\n",
      "[[3 4 6 7]\n",
      " [1 3 7 9]]\n",
      "[[[ 1  2  3  4]]\n",
      "\n",
      " [[12 42 66 74]]]\n",
      "(2, 1, 4)\n"
     ]
    }
   ],
   "source": [
    "#sorting numpy arrays it is not changing the original but only sorting a copy of the array\n",
    "np18 = np.array([6,7,5,3,9,1,2,0])\n",
    "print(np.sort(np18))\n",
    "\n",
    "#sorting alphabetical elements\n",
    "np19 = np.array(['john','tina','reena','sattu'])\n",
    "print(np.sort(np19))\n",
    "\n",
    "#booleans T/F - False=0 ,True=1\n",
    "np20 = np.array([True,False,True,False])\n",
    "print(np.sort(np20))\n",
    "\n",
    "#2D\n",
    "np21 = np.array([[4,6,3,7],[3,9,7,1]])\n",
    "print(np.sort(np21))\n",
    "\n",
    "#3D\n",
    "np22 = np.array([[[3,4,2,1]],[[66,42,74,12]]])\n",
    "print(np.sort(np22))\n",
    "np23 =np.shape(np22)\n",
    "print(np23)"
   ]
  },
  {
   "cell_type": "code",
   "execution_count": 44,
   "id": "d89f952e",
   "metadata": {},
   "outputs": [
    {
     "name": "stdout",
     "output_type": "stream",
     "text": [
      "(array([ 1, 10, 12], dtype=int64),)\n",
      "[ 1 10 12]\n",
      "[2 2 2]\n",
      "[ 1  3  5  7  9 10 11 12 13]\n",
      "[0 2 4 6 8]\n",
      "[6]\n"
     ]
    }
   ],
   "source": [
    "#searching numpy arrays - np.where()\n",
    "np24 = np.array([1,2,3,4,5,6,7,8,9,10,2,4,2,6])\n",
    "x = np.where(np24 == 2)\n",
    "print(x)\n",
    "print(x[0])\n",
    "print(np24[x[0]])\n",
    "\n",
    "#return the even items - returns the index of the item\n",
    "y =np.where(np24 % 2 == 0)\n",
    "print(y[0])\n",
    "\n",
    "#return the odd items - returns the index of he item\n",
    "y = np.where(np24 % 2 == 1)\n",
    "print(y[0])\n",
    "z= np.where(np24 == 7)\n",
    "print(z[0])"
   ]
  },
  {
   "cell_type": "code",
   "execution_count": 53,
   "id": "e5085698",
   "metadata": {},
   "outputs": [
    {
     "name": "stdout",
     "output_type": "stream",
     "text": [
      "[ 1  2  3  4  5  6  7  8  9 10]\n",
      "[ 1 10]\n",
      "[False, True, False, True, False, True, False, True, False, True]\n",
      "[ 2  4  6  8 10]\n",
      "[False, True, False, True, False, True, False, True, False, True, True, True, True, True, True, True, True, True, True, True]\n",
      "[ 2  4  6  8 10]\n"
     ]
    }
   ],
   "source": [
    "#filtering numpy arrays with boolean index\n",
    "np25 = np.array([1,2,3,4,5,6,7,8,9,10])\n",
    "print(np25)\n",
    "x = [True,False,False,False,False,False,False,False,False,True]\n",
    "print(np25[x])\n",
    "\n",
    "#creating a filtering list\n",
    "filtered = []\n",
    "for thing in np25:\n",
    "    if thing % 2 == 0:\n",
    "        filtered.append(True)\n",
    "    else:\n",
    "        filtered.append(False)\n",
    "print(filtered)\n",
    "print(np25[filtered])\n",
    "\n",
    "for greater in np25:\n",
    "    if thing > 7:\n",
    "        filtered.append(True)\n",
    "    else:\n",
    "        filtered.append(False)\n",
    "print(filtered)\n",
    "\n",
    "#Shorthand\n",
    "filtered = np25 % 2 == 0\n",
    "print(np25[filtered])"
   ]
  }
 ],
 "metadata": {
  "kernelspec": {
   "display_name": "Python 3 (ipykernel)",
   "language": "python",
   "name": "python3"
  },
  "language_info": {
   "codemirror_mode": {
    "name": "ipython",
    "version": 3
   },
   "file_extension": ".py",
   "mimetype": "text/x-python",
   "name": "python",
   "nbconvert_exporter": "python",
   "pygments_lexer": "ipython3",
   "version": "3.10.5"
  }
 },
 "nbformat": 4,
 "nbformat_minor": 5
}
